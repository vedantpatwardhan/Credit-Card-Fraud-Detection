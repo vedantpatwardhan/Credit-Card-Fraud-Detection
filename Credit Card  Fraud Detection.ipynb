{
 "cells": [
  {
   "cell_type": "code",
   "execution_count": 10,
   "id": "6b242760",
   "metadata": {},
   "outputs": [],
   "source": [
    "import pandas as pd\n",
    "import numpy as np\n",
    "import matplotlib.pyplot as plt\n",
    "import seaborn as sns"
   ]
  },
  {
   "cell_type": "markdown",
   "id": "85e4e391",
   "metadata": {},
   "source": [
    "#### We Start by reading the csv file"
   ]
  },
  {
   "cell_type": "code",
   "execution_count": 6,
   "id": "17fb9f6e",
   "metadata": {},
   "outputs": [],
   "source": [
    "df = pd.read_csv(\"C:/Users/vedan/Downloads/Fraud.csv\")"
   ]
  },
  {
   "cell_type": "code",
   "execution_count": 7,
   "id": "4c15049c",
   "metadata": {},
   "outputs": [
    {
     "name": "stdout",
     "output_type": "stream",
     "text": [
      "<class 'pandas.core.frame.DataFrame'>\n",
      "RangeIndex: 6362620 entries, 0 to 6362619\n",
      "Data columns (total 11 columns):\n",
      " #   Column          Dtype  \n",
      "---  ------          -----  \n",
      " 0   step            int64  \n",
      " 1   type            object \n",
      " 2   amount          float64\n",
      " 3   nameOrig        object \n",
      " 4   oldbalanceOrg   float64\n",
      " 5   newbalanceOrig  float64\n",
      " 6   nameDest        object \n",
      " 7   oldbalanceDest  float64\n",
      " 8   newbalanceDest  float64\n",
      " 9   isFraud         int64  \n",
      " 10  isFlaggedFraud  int64  \n",
      "dtypes: float64(5), int64(3), object(3)\n",
      "memory usage: 534.0+ MB\n",
      "None\n"
     ]
    }
   ],
   "source": [
    "print(df.info())"
   ]
  },
  {
   "cell_type": "code",
   "execution_count": 8,
   "id": "7c6ed9ee",
   "metadata": {},
   "outputs": [
    {
     "data": {
      "text/html": [
       "<div>\n",
       "<style scoped>\n",
       "    .dataframe tbody tr th:only-of-type {\n",
       "        vertical-align: middle;\n",
       "    }\n",
       "\n",
       "    .dataframe tbody tr th {\n",
       "        vertical-align: top;\n",
       "    }\n",
       "\n",
       "    .dataframe thead th {\n",
       "        text-align: right;\n",
       "    }\n",
       "</style>\n",
       "<table border=\"1\" class=\"dataframe\">\n",
       "  <thead>\n",
       "    <tr style=\"text-align: right;\">\n",
       "      <th></th>\n",
       "      <th>step</th>\n",
       "      <th>type</th>\n",
       "      <th>amount</th>\n",
       "      <th>nameOrig</th>\n",
       "      <th>oldbalanceOrg</th>\n",
       "      <th>newbalanceOrig</th>\n",
       "      <th>nameDest</th>\n",
       "      <th>oldbalanceDest</th>\n",
       "      <th>newbalanceDest</th>\n",
       "      <th>isFraud</th>\n",
       "      <th>isFlaggedFraud</th>\n",
       "    </tr>\n",
       "  </thead>\n",
       "  <tbody>\n",
       "    <tr>\n",
       "      <th>0</th>\n",
       "      <td>1</td>\n",
       "      <td>PAYMENT</td>\n",
       "      <td>9839.64</td>\n",
       "      <td>C1231006815</td>\n",
       "      <td>170136.0</td>\n",
       "      <td>160296.36</td>\n",
       "      <td>M1979787155</td>\n",
       "      <td>0.0</td>\n",
       "      <td>0.0</td>\n",
       "      <td>0</td>\n",
       "      <td>0</td>\n",
       "    </tr>\n",
       "    <tr>\n",
       "      <th>1</th>\n",
       "      <td>1</td>\n",
       "      <td>PAYMENT</td>\n",
       "      <td>1864.28</td>\n",
       "      <td>C1666544295</td>\n",
       "      <td>21249.0</td>\n",
       "      <td>19384.72</td>\n",
       "      <td>M2044282225</td>\n",
       "      <td>0.0</td>\n",
       "      <td>0.0</td>\n",
       "      <td>0</td>\n",
       "      <td>0</td>\n",
       "    </tr>\n",
       "    <tr>\n",
       "      <th>2</th>\n",
       "      <td>1</td>\n",
       "      <td>TRANSFER</td>\n",
       "      <td>181.00</td>\n",
       "      <td>C1305486145</td>\n",
       "      <td>181.0</td>\n",
       "      <td>0.00</td>\n",
       "      <td>C553264065</td>\n",
       "      <td>0.0</td>\n",
       "      <td>0.0</td>\n",
       "      <td>1</td>\n",
       "      <td>0</td>\n",
       "    </tr>\n",
       "    <tr>\n",
       "      <th>3</th>\n",
       "      <td>1</td>\n",
       "      <td>CASH_OUT</td>\n",
       "      <td>181.00</td>\n",
       "      <td>C840083671</td>\n",
       "      <td>181.0</td>\n",
       "      <td>0.00</td>\n",
       "      <td>C38997010</td>\n",
       "      <td>21182.0</td>\n",
       "      <td>0.0</td>\n",
       "      <td>1</td>\n",
       "      <td>0</td>\n",
       "    </tr>\n",
       "    <tr>\n",
       "      <th>4</th>\n",
       "      <td>1</td>\n",
       "      <td>PAYMENT</td>\n",
       "      <td>11668.14</td>\n",
       "      <td>C2048537720</td>\n",
       "      <td>41554.0</td>\n",
       "      <td>29885.86</td>\n",
       "      <td>M1230701703</td>\n",
       "      <td>0.0</td>\n",
       "      <td>0.0</td>\n",
       "      <td>0</td>\n",
       "      <td>0</td>\n",
       "    </tr>\n",
       "  </tbody>\n",
       "</table>\n",
       "</div>"
      ],
      "text/plain": [
       "   step      type    amount     nameOrig  oldbalanceOrg  newbalanceOrig  \\\n",
       "0     1   PAYMENT   9839.64  C1231006815       170136.0       160296.36   \n",
       "1     1   PAYMENT   1864.28  C1666544295        21249.0        19384.72   \n",
       "2     1  TRANSFER    181.00  C1305486145          181.0            0.00   \n",
       "3     1  CASH_OUT    181.00   C840083671          181.0            0.00   \n",
       "4     1   PAYMENT  11668.14  C2048537720        41554.0        29885.86   \n",
       "\n",
       "      nameDest  oldbalanceDest  newbalanceDest  isFraud  isFlaggedFraud  \n",
       "0  M1979787155             0.0             0.0        0               0  \n",
       "1  M2044282225             0.0             0.0        0               0  \n",
       "2   C553264065             0.0             0.0        1               0  \n",
       "3    C38997010         21182.0             0.0        1               0  \n",
       "4  M1230701703             0.0             0.0        0               0  "
      ]
     },
     "execution_count": 8,
     "metadata": {},
     "output_type": "execute_result"
    }
   ],
   "source": [
    "df.head()"
   ]
  },
  {
   "cell_type": "markdown",
   "id": "1a8364c1",
   "metadata": {},
   "source": [
    "#### Detecting outliers and handling missing values"
   ]
  },
  {
   "cell_type": "code",
   "execution_count": 9,
   "id": "f2115b50",
   "metadata": {},
   "outputs": [],
   "source": [
    "missing_data = df.isnull().sum()"
   ]
  },
  {
   "cell_type": "code",
   "execution_count": 15,
   "id": "ef17b845",
   "metadata": {},
   "outputs": [
    {
     "data": {
      "image/png": "iVBORw0KGgoAAAANSUhEUgAAAzoAAAH6CAYAAADPxjkpAAAAOXRFWHRTb2Z0d2FyZQBNYXRwbG90bGliIHZlcnNpb24zLjcuMCwgaHR0cHM6Ly9tYXRwbG90bGliLm9yZy88F64QAAAACXBIWXMAAA9hAAAPYQGoP6dpAAAanUlEQVR4nO3db2hd9f3A8U+a2ETZErGd11RjFzcdZQW3prNrNA/cZkYVWUVoRbDqFBbm1rVZh9aCrmUQNpg6p6lK24ngJNR/+CBzBgRtbQcaUhkzY2OKqZoYUiGpzqU2vb8H/gzLktbc2Gr99PWC++B+7/d7z/c+fHPOPaesWCwWAwAAIJFZn/UGAAAAjjahAwAApCN0AACAdIQOAACQjtABAADSEToAAEA6QgcAAEhH6AAAAOkIHQAAIB2hAwAApFNy6Dz//PNx+eWXx7x586KsrCyefPLJj13z3HPPRUNDQ1RVVcU555wT991330z2CgAAMC0lh857770X559/ftxzzz3Tmv/aa6/FpZdeGk1NTdHT0xO33nprrF69Oh577LGSNwsAADAdZcVisTjjxWVl8cQTT8Ty5csPO+fmm2+Op556Knp7e8fHWlpa4uWXX47du3fP9NAAAACHVXGsD7B79+5obm6eMPb9738/tm7dGh988EGcdNJJk9aMjo7G6Ojo+PtDhw7FO++8E3PmzImysrJjvWUAAOA4VSwWY//+/TFv3ryYNevwF6gd89AZGBiIQqEwYaxQKMTBgwdjaGgoamtrJ61pa2uLjRs3HuutAQAAn1N79+6Ns84667CfH/PQiYhJZ2E+ulrucGdn1q9fH62trePvh4eH4+yzz469e/dGdXX1sdsoAABwXBsZGYm6urr44he/eMR5xzx0zjjjjBgYGJgwNjg4GBUVFTFnzpwp11RWVkZlZeWk8erqaqEDAAB87F9ajvlzdJYuXRpdXV0Txp555plYvHjxlP/PAQAA+KRKDp1333039uzZE3v27ImID28fvWfPnujr64uIDy87W7Vq1fj8lpaWeP3116O1tTV6e3tj27ZtsXXr1li3bt3R+QUAAAD/o+RL11566aW4+OKLx99/9F+aa6+9Nh588MHo7+8fj56IiPr6+ujs7Iy1a9fGvffeG/PmzYu77747rrzyyqOwfQAAgMk+0XN0Pi0jIyNRU1MTw8PD/qMDAAAnsOm2wTH/jw4AAMCnTegAAADpCB0AACAdoQMAAKQjdAAAgHSEDgAAkI7QAQAA0hE6AABAOkIHAABIR+gAAADpCB0AACAdoQMAAKQjdAAAgHSEDgAAkI7QAQAA0hE6AABAOkIHAABIR+gAAADpCB0AACAdoQMAAKQjdAAAgHSEDgAAkI7QAQAA0hE6AABAOkIHAABIR+gAAADpCB0AACAdoQMAAKQjdAAAgHSEDgAAkI7QAQAA0hE6AABAOkIHAABIR+gAAADpCB0AACAdoQMAAKQjdAAAgHSEDgAAkI7QAQAA0hE6AABAOkIHAABIR+gAAADpCB0AACAdoQMAAKQjdAAAgHSEDgAAkI7QAQAA0hE6AABAOkIHAABIR+gAAADpCB0AACAdoQMAAKQjdAAAgHSEDgAAkI7QAQAA0hE6AABAOkIHAABIR+gAAADpCB0AACAdoQMAAKQjdAAAgHSEDgAAkI7QAQAA0hE6AABAOkIHAABIR+gAAADpCB0AACAdoQMAAKQjdAAAgHSEDgAAkI7QAQAA0hE6AABAOkIHAABIR+gAAADpCB0AACAdoQMAAKQjdAAAgHSEDgAAkI7QAQAA0hE6AABAOkIHAABIZ0ah097eHvX19VFVVRUNDQ2xY8eOI85/+OGH4/zzz49TTjklamtr4/rrr499+/bNaMMAAAAfp+TQ6ejoiDVr1sSGDRuip6cnmpqaYtmyZdHX1zfl/J07d8aqVavihhtuiL/97W+xffv2ePHFF+PGG2/8xJsHAACYSsmhc8cdd8QNN9wQN954YyxYsCDuuuuuqKuri82bN085/y9/+Ut8+ctfjtWrV0d9fX1cdNFF8aMf/SheeumlT7x5AACAqZQUOgcOHIju7u5obm6eMN7c3By7du2ack1jY2O88cYb0dnZGcViMd5+++149NFH47LLLpv5rgEAAI6gpNAZGhqKsbGxKBQKE8YLhUIMDAxMuaaxsTEefvjhWLlyZcyePTvOOOOMOPXUU+P3v//9YY8zOjoaIyMjE14AAADTNaObEZSVlU14XywWJ4195JVXXonVq1fHbbfdFt3d3fH000/Ha6+9Fi0tLYf9/ra2tqipqRl/1dXVzWSbAADACaqsWCwWpzv5wIEDccopp8T27dvjiiuuGB//2c9+Fnv27Innnntu0pprrrkm/vOf/8T27dvHx3bu3BlNTU3x1ltvRW1t7aQ1o6OjMTo6Ov5+ZGQk6urqYnh4OKqrq6f94wAAgFxGRkaipqbmY9ugpDM6s2fPjoaGhujq6pow3tXVFY2NjVOu+fe//x2zZk08THl5eUR8eCZoKpWVlVFdXT3hBQAAMF0lX7rW2toaW7ZsiW3btkVvb2+sXbs2+vr6xi9FW79+faxatWp8/uWXXx6PP/54bN68OV599dV44YUXYvXq1XHBBRfEvHnzjt4vAQAA+H8VpS5YuXJl7Nu3LzZt2hT9/f2xcOHC6OzsjPnz50dERH9//4Rn6lx33XWxf//+uOeee+LnP/95nHrqqfGd73wnfv3rXx+9XwEAAPBfSvqPzmdlutfhAQAAuR2T/+gAAAB8HggdAAAgHaEDAACkI3QAAIB0hA4AAJCO0AEAANIROgAAQDpCBwAASEfoAAAA6QgdAAAgHaEDAACkI3QAAIB0hA4AAJCO0AEAANIROgAAQDpCBwAASEfoAAAA6QgdAAAgHaEDAACkI3QAAIB0hA4AAJCO0AEAANIROgAAQDpCBwAASEfoAAAA6QgdAAAgHaEDAACkI3QAAIB0hA4AAJCO0AEAANIROgAAQDpCBwAASEfoAAAA6QgdAAAgHaEDAACkI3QAAIB0hA4AAJCO0AEAANIROgAAQDpCBwAASEfoAAAA6QgdAAAgHaEDAACkI3QAAIB0hA4AAJCO0AEAANIROgAAQDpCBwAASEfoAAAA6QgdAAAgHaEDAACkI3QAAIB0hA4AAJCO0AEAANIROgAAQDpCBwAASEfoAAAA6QgdAAAgHaEDAACkI3QAAIB0hA4AAJCO0AEAANIROgAAQDpCBwAASEfoAAAA6QgdAAAgHaEDAACkI3QAAIB0hA4AAJCO0AEAANIROgAAQDpCBwAASEfoAAAA6QgdAAAgHaEDAACkI3QAAIB0hA4AAJCO0AEAANIROgAAQDpCBwAASEfoAAAA6QgdAAAgnRmFTnt7e9TX10dVVVU0NDTEjh07jjh/dHQ0NmzYEPPnz4/Kysr4yle+Etu2bZvRhgEAAD5ORakLOjo6Ys2aNdHe3h4XXnhh3H///bFs2bJ45ZVX4uyzz55yzYoVK+Ltt9+OrVu3xle/+tUYHByMgwcPfuLNAwAATKWsWCwWS1mwZMmSWLRoUWzevHl8bMGCBbF8+fJoa2ubNP/pp5+Oq666Kl599dU47bTTZrTJkZGRqKmpieHh4aiurp7RdwAAAJ9/022Dki5dO3DgQHR3d0dzc/OE8ebm5ti1a9eUa5566qlYvHhx/OY3v4kzzzwzzjvvvFi3bl28//77hz3O6OhojIyMTHgBAABMV0mXrg0NDcXY2FgUCoUJ44VCIQYGBqZc8+qrr8bOnTujqqoqnnjiiRgaGoof//jH8c477xz2fzptbW2xcePGUrYGAAAwbkY3IygrK5vwvlgsThr7yKFDh6KsrCwefvjhuOCCC+LSSy+NO+64Ix588MHDntVZv359DA8Pj7/27t07k20CAAAnqJLO6MydOzfKy8snnb0ZHBycdJbnI7W1tXHmmWdGTU3N+NiCBQuiWCzGG2+8Eeeee+6kNZWVlVFZWVnK1gAAAMaVdEZn9uzZ0dDQEF1dXRPGu7q6orGxcco1F154Ybz11lvx7rvvjo/94x//iFmzZsVZZ501gy0DAAAcWcmXrrW2tsaWLVti27Zt0dvbG2vXro2+vr5oaWmJiA8vO1u1atX4/KuvvjrmzJkT119/fbzyyivx/PPPxy9+8Yv44Q9/GCeffPLR+yUAAAD/r+Tn6KxcuTL27dsXmzZtiv7+/li4cGF0dnbG/PnzIyKiv78/+vr6xud/4QtfiK6urvjpT38aixcvjjlz5sSKFSviV7/61dH7FQAAAP+l5OfofBY8RwcAAIg4Rs/RAQAA+DwQOgAAQDpCBwAASEfoAAAA6QgdAAAgHaEDAACkI3QAAIB0hA4AAJCO0AEAANIROgAAQDpCBwAASEfoAAAA6QgdAAAgHaEDAACkI3QAAIB0hA4AAJCO0AEAANIROgAAQDpCBwAASEfoAAAA6QgdAAAgHaEDAACkI3QAAIB0hA4AAJCO0AEAANIROgAAQDpCBwAASEfoAAAA6QgdAAAgHaEDAACkI3QAAIB0hA4AAJCO0AEAANIROgAAQDpCBwAASEfoAAAA6QgdAAAgHaEDAACkI3QAAIB0hA4AAJCO0AEAANIROgAAQDpCBwAASEfoAAAA6QgdAAAgHaEDAACkI3QAAIB0hA4AAJCO0AEAANIROgAAQDpCBwAASEfoAAAA6QgdAAAgHaEDAACkI3QAAIB0hA4AAJCO0AEAANIROgAAQDpCBwAASEfoAAAA6QgdAAAgHaEDAACkI3QAAIB0hA4AAJCO0AEAANIROgAAQDpCBwAASEfoAAAA6QgdAAAgHaEDAACkI3QAAIB0hA4AAJCO0AEAANIROgAAQDpCBwAASEfoAAAA6QgdAAAgHaEDAACkI3QAAIB0hA4AAJCO0AEAANKZUei0t7dHfX19VFVVRUNDQ+zYsWNa61544YWoqKiIb3zjGzM5LAAAwLSUHDodHR2xZs2a2LBhQ/T09ERTU1MsW7Ys+vr6jrhueHg4Vq1aFd/97ndnvFkAAIDpKCsWi8VSFixZsiQWLVoUmzdvHh9bsGBBLF++PNra2g677qqrropzzz03ysvL48knn4w9e/ZM+5gjIyNRU1MTw8PDUV1dXcp2AQCARKbbBiWd0Tlw4EB0d3dHc3PzhPHm5ubYtWvXYdf94Q9/iH/9619x++23l3I4AACAGakoZfLQ0FCMjY1FoVCYMF4oFGJgYGDKNf/85z/jlltuiR07dkRFxfQONzo6GqOjo+PvR0ZGStkmAABwgpvRzQjKysomvC8Wi5PGIiLGxsbi6quvjo0bN8Z555037e9va2uLmpqa8VddXd1MtgkAAJygSgqduXPnRnl5+aSzN4ODg5PO8kRE7N+/P1566aX4yU9+EhUVFVFRURGbNm2Kl19+OSoqKuLZZ5+d8jjr16+P4eHh8dfevXtL2SYAAHCCK+nStdmzZ0dDQ0N0dXXFFVdcMT7e1dUVP/jBDybNr66ujr/+9a8Txtrb2+PZZ5+NRx99NOrr66c8TmVlZVRWVpayNQAAgHElhU5ERGtra1xzzTWxePHiWLp0aTzwwAPR19cXLS0tEfHh2Zg333wzHnrooZg1a1YsXLhwwvrTTz89qqqqJo0DAAAcLSWHzsqVK2Pfvn2xadOm6O/vj4ULF0ZnZ2fMnz8/IiL6+/s/9pk6AAAAx1LJz9H5LHiODgAAEHGMnqMDAADweSB0AACAdIQOAACQjtABAADSEToAAEA6QgcAAEhH6AAAAOkIHQAAIB2hAwAApCN0AACAdIQOAACQjtABAADSEToAAEA6QgcAAEhH6AAAAOkIHQAAIB2hAwAApCN0AACAdIQOAACQjtABAADSEToAAEA6QgcAAEhH6AAAAOkIHQAAIB2hAwAApCN0AACAdIQOAACQjtABAADSEToAAEA6QgcAAEhH6AAAAOkIHQAAIB2hAwAApCN0AACAdIQOAACQjtABAADSEToAAEA6QgcAAEhH6AAAAOkIHQAAIB2hAwAApCN0AACAdIQOAACQjtABAADSEToAAEA6QgcAAEhH6AAAAOkIHQAAIB2hAwAApCN0AACAdIQOAACQjtABAADSEToAAEA6QgcAAEhH6AAAAOkIHQAAIB2hAwAApCN0AACAdIQOAACQjtABAADSEToAAEA6QgcAAEhH6AAAAOkIHQAAIB2hAwAApCN0AACAdIQOAACQjtABAADSEToAAEA6QgcAAEhH6AAAAOkIHQAAIB2hAwAApCN0AACAdIQOAACQjtABAADSEToAAEA6QgcAAEhH6AAAAOkIHQAAIB2hAwAApCN0AACAdGYUOu3t7VFfXx9VVVXR0NAQO3bsOOzcxx9/PC655JL40pe+FNXV1bF06dL485//POMNAwAAfJySQ6ejoyPWrFkTGzZsiJ6enmhqaoply5ZFX1/flPOff/75uOSSS6KzszO6u7vj4osvjssvvzx6eno+8eYBAACmUlYsFoulLFiyZEksWrQoNm/ePD62YMGCWL58ebS1tU3rO77+9a/HypUr47bbbpvW/JGRkaipqYnh4eGorq4uZbsAAEAi022Dks7oHDhwILq7u6O5uXnCeHNzc+zatWta33Ho0KHYv39/nHbaaYedMzo6GiMjIxNeAAAA01VS6AwNDcXY2FgUCoUJ44VCIQYGBqb1Hb/97W/jvffeixUrVhx2TltbW9TU1Iy/6urqStkmAABwgpvRzQjKysomvC8Wi5PGpvLII4/EL3/5y+jo6IjTTz/9sPPWr18fw8PD46+9e/fOZJsAAMAJqqKUyXPnzo3y8vJJZ28GBwcnneX5Xx0dHXHDDTfE9u3b43vf+94R51ZWVkZlZWUpWwMAABhX0hmd2bNnR0NDQ3R1dU0Y7+rqisbGxsOue+SRR+K6666LP/7xj3HZZZfNbKcAAADTVNIZnYiI1tbWuOaaa2Lx4sWxdOnSeOCBB6Kvry9aWloi4sPLzt5888146KGHIuLDyFm1alX87ne/i29/+9vjZ4NOPvnkqKmpOYo/BQAA4EMlh87KlStj3759sWnTpujv74+FCxdGZ2dnzJ8/PyIi+vv7JzxT5/7774+DBw/GTTfdFDfddNP4+LXXXhsPPvjgJ/8FAAAA/6Pk5+h8FjxHBwAAiDhGz9EBAAD4PBA6AABAOkIHAABIR+gAAADpCB0AACAdoQMAAKQjdAAAgHSEDgAAkI7QAQAA0hE6AABAOkIHAABIR+gAAADpCB0AACAdoQMAAKQjdAAAgHSEDgAAkI7QAQAA0hE6AABAOkIHAABIR+gAAADpCB0AACAdoQMAAKQjdAAAgHSEDgAAkI7QAQAA0hE6AABAOkIHAABIR+gAAADpCB0AACAdoQMAAKQjdAAAgHSEDgAAkI7QAQAA0hE6AABAOkIHAABIR+gAAADpCB0AACAdoQMAAKQjdAAAgHSEDgAAkI7QAQAA0hE6AABAOkIHAABIR+gAAADpCB0AACAdoQMAAKQjdAAAgHSEDgAAkI7QAQAA0hE6AABAOkIHAABIR+gAAADpCB0AACAdoQMAAKQjdAAAgHSEDgAAkI7QAQAA0hE6AABAOkIHAABIR+gAAADpCB0AACAdoQMAAKQjdAAAgHSEDgAAkI7QAQAA0hE6AABAOkIHAABIR+gAAADpCB0AACAdoQMAAKQjdAAAgHSEDgAAkI7QAQAA0hE6AABAOkIHAABIR+gAAADpCB0AACAdoQMAAKQjdAAAgHSEDgAAkI7QAQAA0plR6LS3t0d9fX1UVVVFQ0ND7Nix44jzn3vuuWhoaIiqqqo455xz4r777pvRZgEAAKaj5NDp6OiINWvWxIYNG6Knpyeamppi2bJl0dfXN+X81157LS699NJoamqKnp6euPXWW2P16tXx2GOPfeLNAwAATKWsWCwWS1mwZMmSWLRoUWzevHl8bMGCBbF8+fJoa2ubNP/mm2+Op556Knp7e8fHWlpa4uWXX47du3dP65gjIyNRU1MTw8PDUV1dXcp2AQCARKbbBhWlfOmBAweiu7s7brnllgnjzc3NsWvXrinX7N69O5qbmyeMff/734+tW7fGBx98ECeddNKkNaOjozE6Ojr+fnh4OCI+/FEAAMCJ66Mm+LjzNSWFztDQUIyNjUWhUJgwXigUYmBgYMo1AwMDU84/ePBgDA0NRW1t7aQ1bW1tsXHjxknjdXV1pWwXAABIav/+/VFTU3PYz0sKnY+UlZVNeF8sFieNfdz8qcY/sn79+mhtbR1/f+jQoXjnnXdizpw5RzwOAHmNjIxEXV1d7N2712XMACewYrEY+/fvj3nz5h1xXkmhM3fu3CgvL5909mZwcHDSWZuPnHHGGVPOr6ioiDlz5ky5prKyMiorKyeMnXrqqaVsFYCkqqurhQ7ACe5IZ3I+UtJd12bPnh0NDQ3R1dU1YbyrqysaGxunXLN06dJJ85955plYvHjxlP/PAQAA+KRKvr10a2trbNmyJbZt2xa9vb2xdu3a6Ovri5aWloj48LKzVatWjc9vaWmJ119/PVpbW6O3tze2bdsWW7dujXXr1h29XwEAAPBfSv6PzsqVK2Pfvn2xadOm6O/vj4ULF0ZnZ2fMnz8/IiL6+/snPFOnvr4+Ojs7Y+3atXHvvffGvHnz4u67744rr7zy6P0KANKrrKyM22+/fdKlzQAwlZKfowMAAHC8K/nSNQAAgOOd0AEAANIROgAAQDpCBwAASEfoAAAA6ZR8e2kA+DS88cYbsXnz5ti1a1cMDAxEWVlZFAqFaGxsjJaWlqirq/ustwjAccztpQE47uzcuTOWLVsWdXV10dzcHIVCIYrFYgwODkZXV1fs3bs3/vSnP8WFF174WW8VgOOU0AHguPOtb30rLrroorjzzjun/Hzt2rWxc+fOePHFFz/lnQHweSF0ADjunHzyybFnz5742te+NuXnf//73+Ob3/xmvP/++5/yzgD4vHAzAgCOO7W1tbFr167Dfr579+6ora39FHcEwOeNmxEAcNxZt25dtLS0RHd3d1xyySVRKBSirKwsBgYGoqurK7Zs2RJ33XXXZ71NAI5jLl0D4LjU0dERd955Z3R3d8fY2FhERJSXl0dDQ0O0trbGihUrPuMdAnA8EzoAHNc++OCDGBoaioiIuXPnxkknnfQZ7wiAzwOhAwAApONmBAAAQDpCBwAASEfoAAAA6QgdAAAgHaEDAACkI3QAAIB0hA4AAJCO0AEAANL5P2i2rRUk4nnlAAAAAElFTkSuQmCC",
      "text/plain": [
       "<Figure size 1000x600 with 1 Axes>"
      ]
     },
     "metadata": {},
     "output_type": "display_data"
    }
   ],
   "source": [
    "plt.figure(figsize=(10, 6))\n",
    "sns.boxplot(df=df.select_dtypes(include=[np.number]))\n",
    "plt.xticks(rotation=90)\n",
    "plt.show()"
   ]
  },
  {
   "cell_type": "code",
   "execution_count": 14,
   "id": "cb5ee914",
   "metadata": {},
   "outputs": [
    {
     "name": "stderr",
     "output_type": "stream",
     "text": [
      "C:\\Users\\vedan\\AppData\\Local\\Temp\\ipykernel_27560\\2046867619.py:2: FutureWarning: The default value of numeric_only in DataFrame.median is deprecated. In a future version, it will default to False. In addition, specifying 'numeric_only=None' is deprecated. Select only valid columns or specify the value of numeric_only to silence this warning.\n",
      "  df.fillna(df.median(), inplace=True)\n"
     ]
    }
   ],
   "source": [
    "# Fill missing values (example: using median for numerical data)\n",
    "df.fillna(df.median(), inplace=True)"
   ]
  },
  {
   "cell_type": "markdown",
   "id": "aeaf76a7",
   "metadata": {},
   "source": [
    "#### Now we can try using the Z-score method which measures how many standard deviations a data point is from the mean .  Now we can try using the Z-score method which measures how many standard deviations a data point is from the mean . Generally a Z-Score greater than 3 or less than -3 is often considered an outlier"
   ]
  },
  {
   "cell_type": "code",
   "execution_count": 18,
   "id": "60e7529f",
   "metadata": {},
   "outputs": [
    {
     "name": "stdout",
     "output_type": "stream",
     "text": [
      "Number of outliers: 585877\n"
     ]
    }
   ],
   "source": [
    "from scipy import stats\n",
    "z = np.abs(stats.zscore(df.select_dtypes(include=[np.number])))\n",
    "\n",
    "# Count the number of outliers (Z-score > 3)\n",
    "outliers = (z > 3).sum().sum()  # sum across both rows and columns\n",
    "\n",
    "# Print the total number of outliers\n",
    "print(f\"Number of outliers: {outliers}\")"
   ]
  },
  {
   "cell_type": "markdown",
   "id": "7e68dfa7",
   "metadata": {},
   "source": [
    "#### As we can see the number of outliers are very large. Now we can filter out the rows that contain outliers based on our Z-score condition"
   ]
  },
  {
   "cell_type": "code",
   "execution_count": 19,
   "id": "584d955c",
   "metadata": {},
   "outputs": [
    {
     "name": "stdout",
     "output_type": "stream",
     "text": [
      "Original data shape: (6362620, 11), Cleaned data shape: (6020098, 11)\n"
     ]
    }
   ],
   "source": [
    "non_outlier_mask = (z <= 3).all(axis=1)\n",
    "\n",
    "# Filter the DataFrame to retain only non-outliers\n",
    "df_cleaned = df[non_outlier_mask]\n",
    "\n",
    "\n",
    "print(f\"Original data shape: {df.shape}, Cleaned data shape: {df_cleaned.shape}\")"
   ]
  },
  {
   "cell_type": "code",
   "execution_count": 20,
   "id": "1fd25f26",
   "metadata": {},
   "outputs": [
    {
     "name": "stdout",
     "output_type": "stream",
     "text": [
      "               step        amount  oldbalanceOrg  newbalanceOrig  \\\n",
      "count  6.020098e+06  6.020098e+06   6.020098e+06    6.020098e+06   \n",
      "mean   2.380655e+02  1.446973e+05   4.546180e+05    4.744816e+05   \n",
      "std    1.353710e+02  2.132763e+05   1.427488e+06    1.468689e+06   \n",
      "min    1.000000e+00  1.000000e-02   0.000000e+00    0.000000e+00   \n",
      "25%    1.550000e+02  1.267605e+04   0.000000e+00    0.000000e+00   \n",
      "50%    2.360000e+02  6.920885e+04   1.197100e+04    0.000000e+00   \n",
      "75%    3.320000e+02  2.024753e+05   9.856798e+04    1.165611e+05   \n",
      "max    6.700000e+02  1.991430e+06   9.498553e+06    9.627013e+06   \n",
      "\n",
      "       oldbalanceDest  newbalanceDest    isFraud  isFlaggedFraud  \n",
      "count    6.020098e+06    6.020098e+06  6020098.0       6020098.0  \n",
      "mean     8.189448e+05    9.082559e+05        0.0             0.0  \n",
      "std      1.630845e+06    1.696457e+06        0.0             0.0  \n",
      "min      0.000000e+00    0.000000e+00        0.0             0.0  \n",
      "25%      0.000000e+00    0.000000e+00        0.0             0.0  \n",
      "50%      9.797286e+04    1.860782e+05        0.0             0.0  \n",
      "75%      8.432930e+05    1.004084e+06        0.0             0.0  \n",
      "max      1.129806e+07    1.224725e+07        0.0             0.0  \n"
     ]
    }
   ],
   "source": [
    "print(df_cleaned.describe())"
   ]
  },
  {
   "cell_type": "markdown",
   "id": "23135f51",
   "metadata": {},
   "source": [
    "### We can try to visualize the code"
   ]
  },
  {
   "cell_type": "code",
   "execution_count": 21,
   "id": "82d7e0dc",
   "metadata": {},
   "outputs": [
    {
     "data": {
      "image/png": "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",
      "text/plain": [
       "<Figure size 1000x600 with 1 Axes>"
      ]
     },
     "metadata": {},
     "output_type": "display_data"
    }
   ],
   "source": [
    "plt.figure(figsize=(10, 6))\n",
    "sns.boxplot(data=df_cleaned.select_dtypes(include=[np.number]))\n",
    "plt.xticks(rotation=90)\n",
    "plt.show()"
   ]
  },
  {
   "cell_type": "markdown",
   "id": "42b64d2d",
   "metadata": {},
   "source": [
    " #### The boxplot displays several features related to transactions, highlighting their ranges and outliers. The step feature shows little variation, which might not be very useful for detecting fraud. The amount feature has some large outliers, indicating that some transactions involve significantly high amounts, which could be suspicious. The oldbalanceOrg and newbalanceOrig features also show a wide range and outliers, suggesting they may help in identifying fraudulent activity by revealing unusual balance changes. The binary features, isFraud and isFlaggedFraud, don’t show any variability in this context. Overall, the features with notable outliers, especially amount, oldbalanceOrg, and newbalanceOrig, should be closely examined as they might provide valuable insights for predicting fraudulent transactions."
   ]
  },
  {
   "cell_type": "code",
   "execution_count": 31,
   "id": "4a93cca1",
   "metadata": {},
   "outputs": [
    {
     "name": "stdout",
     "output_type": "stream",
     "text": [
      "step                int64\n",
      "type              float64\n",
      "amount            float64\n",
      "nameOrig          float64\n",
      "oldbalanceOrg     float64\n",
      "newbalanceOrig    float64\n",
      "nameDest          float64\n",
      "oldbalanceDest    float64\n",
      "newbalanceDest    float64\n",
      "isFlaggedFraud      int64\n",
      "dtype: object\n"
     ]
    }
   ],
   "source": [
    "print(X.dtypes)"
   ]
  },
  {
   "cell_type": "code",
   "execution_count": 30,
   "id": "af12e415",
   "metadata": {},
   "outputs": [
    {
     "name": "stdout",
     "output_type": "stream",
     "text": [
      "Index(['step', 'type', 'amount', 'nameOrig', 'oldbalanceOrg', 'newbalanceOrig',\n",
      "       'nameDest', 'oldbalanceDest', 'newbalanceDest', 'isFraud',\n",
      "       'isFlaggedFraud'],\n",
      "      dtype='object')\n"
     ]
    }
   ],
   "source": [
    "print(df.columns)"
   ]
  },
  {
   "cell_type": "code",
   "execution_count": 32,
   "id": "77295d95",
   "metadata": {},
   "outputs": [
    {
     "name": "stderr",
     "output_type": "stream",
     "text": [
      "C:\\Users\\vedan\\AppData\\Local\\Temp\\ipykernel_27560\\3083230406.py:1: FutureWarning: The default value of numeric_only in DataFrame.corr is deprecated. In a future version, it will default to False. Select only valid columns or specify the value of numeric_only to silence this warning.\n",
      "  corr_matrix = df.corr()\n"
     ]
    },
    {
     "name": "stdout",
     "output_type": "stream",
     "text": [
      "                    step    amount  oldbalanceOrg  newbalanceOrig  \\\n",
      "step            1.000000  0.022373      -0.010058       -0.010299   \n",
      "amount          0.022373  1.000000      -0.002762       -0.007861   \n",
      "oldbalanceOrg  -0.010058 -0.002762       1.000000        0.998803   \n",
      "newbalanceOrig -0.010299 -0.007861       0.998803        1.000000   \n",
      "oldbalanceDest  0.027665  0.294137       0.066243        0.067812   \n",
      "newbalanceDest  0.025888  0.459304       0.042029        0.041837   \n",
      "isFraud         0.031578  0.076688       0.010154       -0.008148   \n",
      "isFlaggedFraud  0.003277  0.012295       0.003835        0.003776   \n",
      "\n",
      "                oldbalanceDest  newbalanceDest   isFraud  isFlaggedFraud  \n",
      "step                  0.027665        0.025888  0.031578        0.003277  \n",
      "amount                0.294137        0.459304  0.076688        0.012295  \n",
      "oldbalanceOrg         0.066243        0.042029  0.010154        0.003835  \n",
      "newbalanceOrig        0.067812        0.041837 -0.008148        0.003776  \n",
      "oldbalanceDest        1.000000        0.976569 -0.005885       -0.000513  \n",
      "newbalanceDest        0.976569        1.000000  0.000535       -0.000529  \n",
      "isFraud              -0.005885        0.000535  1.000000        0.044109  \n",
      "isFlaggedFraud       -0.000513       -0.000529  0.044109        1.000000  \n"
     ]
    }
   ],
   "source": [
    "corr_matrix = df.corr()\n",
    "print(corr_matrix)"
   ]
  },
  {
   "cell_type": "code",
   "execution_count": 37,
   "id": "29e7282d",
   "metadata": {},
   "outputs": [
    {
     "name": "stdout",
     "output_type": "stream",
     "text": [
      "(6362620, 11)\n"
     ]
    }
   ],
   "source": [
    "print(df.shape)"
   ]
  },
  {
   "cell_type": "markdown",
   "id": "e3db2e0d",
   "metadata": {},
   "source": [
    "### We are using a Random Forest Classifier, as it combine multiple decision trees, which reduces the risk of overfitting that can occur with individual decision trees . Also fraud detection datasets are often imbalanced, meaning there are many more non-fraudulent transactions than fraudulent ones thus they can can effectively handle this imbalance by providing feature importance metrics and allowing for the use of class weights"
   ]
  },
  {
   "cell_type": "markdown",
   "id": "7db90f42",
   "metadata": {},
   "source": [
    "#### Label Encoding"
   ]
  },
  {
   "cell_type": "code",
   "execution_count": 57,
   "id": "70b8f483",
   "metadata": {},
   "outputs": [],
   "source": [
    "from sklearn.preprocessing import LabelEncoder\n",
    "\n",
    "categorical_columns = ['type', 'nameOrig', 'nameDest']  \n",
    "\n",
    "\n",
    "label_encoder = LabelEncoder()\n",
    "\n",
    "\n",
    "for column in categorical_columns:\n",
    "    df[column] = label_encoder.fit_transform(df[column])"
   ]
  },
  {
   "cell_type": "markdown",
   "id": "dc918dd1",
   "metadata": {},
   "source": [
    "####  Next we train the Random Forest Model"
   ]
  },
  {
   "cell_type": "code",
   "execution_count": 42,
   "id": "7f0fafe5",
   "metadata": {},
   "outputs": [],
   "source": [
    "X = df.drop(columns=['isFraud']) \n",
    "y = df['isFraud']                   "
   ]
  },
  {
   "cell_type": "code",
   "execution_count": 44,
   "id": "75af9fc7",
   "metadata": {},
   "outputs": [],
   "source": [
    "from sklearn.model_selection import train_test_split\n",
    "\n",
    "X_train, X_test, y_train, y_test = train_test_split(X, y, test_size=0.2, random_state=42, stratify=y)"
   ]
  },
  {
   "cell_type": "code",
   "execution_count": 50,
   "id": "513693ee",
   "metadata": {},
   "outputs": [
    {
     "data": {
      "text/html": [
       "<style>#sk-container-id-2 {color: black;background-color: white;}#sk-container-id-2 pre{padding: 0;}#sk-container-id-2 div.sk-toggleable {background-color: white;}#sk-container-id-2 label.sk-toggleable__label {cursor: pointer;display: block;width: 100%;margin-bottom: 0;padding: 0.3em;box-sizing: border-box;text-align: center;}#sk-container-id-2 label.sk-toggleable__label-arrow:before {content: \"▸\";float: left;margin-right: 0.25em;color: #696969;}#sk-container-id-2 label.sk-toggleable__label-arrow:hover:before {color: black;}#sk-container-id-2 div.sk-estimator:hover label.sk-toggleable__label-arrow:before {color: black;}#sk-container-id-2 div.sk-toggleable__content {max-height: 0;max-width: 0;overflow: hidden;text-align: left;background-color: #f0f8ff;}#sk-container-id-2 div.sk-toggleable__content pre {margin: 0.2em;color: black;border-radius: 0.25em;background-color: #f0f8ff;}#sk-container-id-2 input.sk-toggleable__control:checked~div.sk-toggleable__content {max-height: 200px;max-width: 100%;overflow: auto;}#sk-container-id-2 input.sk-toggleable__control:checked~label.sk-toggleable__label-arrow:before {content: \"▾\";}#sk-container-id-2 div.sk-estimator input.sk-toggleable__control:checked~label.sk-toggleable__label {background-color: #d4ebff;}#sk-container-id-2 div.sk-label input.sk-toggleable__control:checked~label.sk-toggleable__label {background-color: #d4ebff;}#sk-container-id-2 input.sk-hidden--visually {border: 0;clip: rect(1px 1px 1px 1px);clip: rect(1px, 1px, 1px, 1px);height: 1px;margin: -1px;overflow: hidden;padding: 0;position: absolute;width: 1px;}#sk-container-id-2 div.sk-estimator {font-family: monospace;background-color: #f0f8ff;border: 1px dotted black;border-radius: 0.25em;box-sizing: border-box;margin-bottom: 0.5em;}#sk-container-id-2 div.sk-estimator:hover {background-color: #d4ebff;}#sk-container-id-2 div.sk-parallel-item::after {content: \"\";width: 100%;border-bottom: 1px solid gray;flex-grow: 1;}#sk-container-id-2 div.sk-label:hover label.sk-toggleable__label {background-color: #d4ebff;}#sk-container-id-2 div.sk-serial::before {content: \"\";position: absolute;border-left: 1px solid gray;box-sizing: border-box;top: 0;bottom: 0;left: 50%;z-index: 0;}#sk-container-id-2 div.sk-serial {display: flex;flex-direction: column;align-items: center;background-color: white;padding-right: 0.2em;padding-left: 0.2em;position: relative;}#sk-container-id-2 div.sk-item {position: relative;z-index: 1;}#sk-container-id-2 div.sk-parallel {display: flex;align-items: stretch;justify-content: center;background-color: white;position: relative;}#sk-container-id-2 div.sk-item::before, #sk-container-id-2 div.sk-parallel-item::before {content: \"\";position: absolute;border-left: 1px solid gray;box-sizing: border-box;top: 0;bottom: 0;left: 50%;z-index: -1;}#sk-container-id-2 div.sk-parallel-item {display: flex;flex-direction: column;z-index: 1;position: relative;background-color: white;}#sk-container-id-2 div.sk-parallel-item:first-child::after {align-self: flex-end;width: 50%;}#sk-container-id-2 div.sk-parallel-item:last-child::after {align-self: flex-start;width: 50%;}#sk-container-id-2 div.sk-parallel-item:only-child::after {width: 0;}#sk-container-id-2 div.sk-dashed-wrapped {border: 1px dashed gray;margin: 0 0.4em 0.5em 0.4em;box-sizing: border-box;padding-bottom: 0.4em;background-color: white;}#sk-container-id-2 div.sk-label label {font-family: monospace;font-weight: bold;display: inline-block;line-height: 1.2em;}#sk-container-id-2 div.sk-label-container {text-align: center;}#sk-container-id-2 div.sk-container {/* jupyter's `normalize.less` sets `[hidden] { display: none; }` but bootstrap.min.css set `[hidden] { display: none !important; }` so we also need the `!important` here to be able to override the default hidden behavior on the sphinx rendered scikit-learn.org. See: https://github.com/scikit-learn/scikit-learn/issues/21755 */display: inline-block !important;position: relative;}#sk-container-id-2 div.sk-text-repr-fallback {display: none;}</style><div id=\"sk-container-id-2\" class=\"sk-top-container\"><div class=\"sk-text-repr-fallback\"><pre>RandomForestClassifier(class_weight=&#x27;balanced&#x27;, random_state=42)</pre><b>In a Jupyter environment, please rerun this cell to show the HTML representation or trust the notebook. <br />On GitHub, the HTML representation is unable to render, please try loading this page with nbviewer.org.</b></div><div class=\"sk-container\" hidden><div class=\"sk-item\"><div class=\"sk-estimator sk-toggleable\"><input class=\"sk-toggleable__control sk-hidden--visually\" id=\"sk-estimator-id-2\" type=\"checkbox\" checked><label for=\"sk-estimator-id-2\" class=\"sk-toggleable__label sk-toggleable__label-arrow\">RandomForestClassifier</label><div class=\"sk-toggleable__content\"><pre>RandomForestClassifier(class_weight=&#x27;balanced&#x27;, random_state=42)</pre></div></div></div></div></div>"
      ],
      "text/plain": [
       "RandomForestClassifier(class_weight='balanced', random_state=42)"
      ]
     },
     "execution_count": 50,
     "metadata": {},
     "output_type": "execute_result"
    }
   ],
   "source": [
    "from sklearn.ensemble import RandomForestClassifier\n",
    "\n",
    "rf = RandomForestClassifier(random_state=42, class_weight='balanced')\n",
    "\n",
    "rf.fit(X_train, y_train)"
   ]
  },
  {
   "cell_type": "code",
   "execution_count": 51,
   "id": "10e35aaa",
   "metadata": {},
   "outputs": [],
   "source": [
    "y_pred = rf.predict(X_test)"
   ]
  },
  {
   "cell_type": "code",
   "execution_count": 52,
   "id": "8eef2a6d",
   "metadata": {},
   "outputs": [
    {
     "name": "stdout",
     "output_type": "stream",
     "text": [
      "              precision    recall  f1-score   support\n",
      "\n",
      "           0       1.00      1.00      1.00   1270881\n",
      "           1       0.98      0.77      0.86      1643\n",
      "\n",
      "    accuracy                           1.00   1272524\n",
      "   macro avg       0.99      0.89      0.93   1272524\n",
      "weighted avg       1.00      1.00      1.00   1272524\n",
      "\n"
     ]
    }
   ],
   "source": [
    "from sklearn.metrics import classification_report, confusion_matrix, roc_auc_score\n",
    "\n",
    "print(classification_report(y_test, y_pred))"
   ]
  },
  {
   "cell_type": "markdown",
   "id": "8b2c5d58",
   "metadata": {},
   "source": [
    "#### Confusion Matrix\n"
   ]
  },
  {
   "cell_type": "code",
   "execution_count": 53,
   "id": "749bf0f8",
   "metadata": {},
   "outputs": [
    {
     "name": "stdout",
     "output_type": "stream",
     "text": [
      "Confusion Matrix:\n",
      " [[1270859      22]\n",
      " [    375    1268]]\n"
     ]
    }
   ],
   "source": [
    "conf_matrix = confusion_matrix(y_test, y_pred)\n",
    "print(\"Confusion Matrix:\\n\", conf_matrix)"
   ]
  },
  {
   "cell_type": "markdown",
   "id": "e3337818",
   "metadata": {},
   "source": [
    "#### ROC AUC Score -  It  is a graphical representation that illustrates the performance of a binary classifier as its discrimination threshold is varied"
   ]
  },
  {
   "cell_type": "code",
   "execution_count": 54,
   "id": "cb47bd6e",
   "metadata": {},
   "outputs": [
    {
     "name": "stdout",
     "output_type": "stream",
     "text": [
      "ROC-AUC Score: 0.99\n"
     ]
    }
   ],
   "source": [
    "roc_auc = roc_auc_score(y_test, rf.predict_proba(X_test)[:, 1])\n",
    "print(f\"ROC-AUC Score: {roc_auc:.2f}\")\n"
   ]
  },
  {
   "cell_type": "markdown",
   "id": "14d2e5d9",
   "metadata": {},
   "source": [
    "#### Predicted probabilities for the positive class (fraudulent transactions)"
   ]
  },
  {
   "cell_type": "code",
   "execution_count": 56,
   "id": "aef5c74e",
   "metadata": {},
   "outputs": [
    {
     "data": {
      "image/png": "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",
      "text/plain": [
       "<Figure size 1000x600 with 1 Axes>"
      ]
     },
     "metadata": {},
     "output_type": "display_data"
    }
   ],
   "source": [
    "from sklearn.metrics import roc_curve, auc\n",
    "\n",
    "y_probs = rf.predict_proba(X_test)[:, 1]\n",
    "\n",
    "fpr, tpr, _ = roc_curve(y_test, y_probs)\n",
    "roc_auc = auc(fpr, tpr)\n",
    "\n",
    "plt.figure(figsize=(10, 6))\n",
    "plt.plot(fpr, tpr, label=f'ROC curve (AUC = {roc_auc:.2f})')\n",
    "plt.plot([0, 1], [0, 1], 'r--')  \n",
    "plt.xlabel('False Positive Rate')\n",
    "plt.ylabel('True Positive Rate')\n",
    "plt.title('Receiver Operating Characteristic (ROC) Curve')\n",
    "plt.legend(loc='lower right')\n",
    "plt.grid()\n",
    "plt.show()"
   ]
  },
  {
   "cell_type": "markdown",
   "id": "84ba80a1",
   "metadata": {},
   "source": [
    "## Relevant Questions and Proposed Solutions"
   ]
  },
  
  {
   ]
  },
  {
   "cell_type": "code",
   "execution_count": null,
   "id": "00536325",
   "metadata": {},
   "outputs": [],
   "source": []
  }
 ],
 "metadata": {
  "kernelspec": {
   "display_name": "Python 3 (ipykernel)",
   "language": "python",
   "name": "python3"
  },
  "language_info": {
   "codemirror_mode": {
    "name": "ipython",
    "version": 3
   },
   "file_extension": ".py",
   "mimetype": "text/x-python",
   "name": "python",
   "nbconvert_exporter": "python",
   "pygments_lexer": "ipython3",
   "version": "3.10.9"
  }
 },
 "nbformat": 4,
 "nbformat_minor": 5
}
